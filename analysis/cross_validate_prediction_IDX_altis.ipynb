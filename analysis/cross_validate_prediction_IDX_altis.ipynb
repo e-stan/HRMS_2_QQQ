{
 "cells": [
  {
   "cell_type": "code",
   "execution_count": 2,
   "metadata": {},
   "outputs": [],
   "source": [
    "from srm_helper import *\n",
    "import pandas as pd\n",
    "import random as rd\n",
    "import numpy as np\n",
    "from sklearn.model_selection import KFold \n",
    "from sklearn.metrics import r2_score\n",
    "import matplotlib\n",
    "matplotlib.rcParams['figure.dpi'] = 500"
   ]
  },
  {
   "cell_type": "code",
   "execution_count": 3,
   "metadata": {},
   "outputs": [],
   "source": [
    "tol = .5  # MS2 fragment tolerance for QqQ optimized transitions\n",
    "ppmTol = 10  # m/z tolerance for HRMS data in ppm\n",
    "numCores = 2  # number of CPU cores to use\n",
    "num2Train = 10 #number of compounds to learn equation\n",
    "numIters = 1000 #number of iterations"
   ]
  },
  {
   "cell_type": "code",
   "execution_count": 4,
   "metadata": {},
   "outputs": [],
   "source": [
    "### format csv files from whole transition list\n",
    "totalTransitionInfoFn = \"../data/IDX/M3T_transitions_ALTIS_optimized_allCpds.csv\"\n",
    "\n",
    "totalTransitions = pd.read_csv(totalTransitionInfoFn)\n",
    "\n",
    "switcher = {\"Positive\":1,\"Negative\":-1}\n",
    "\n"
   ]
  },
  {
   "cell_type": "code",
   "execution_count": 5,
   "metadata": {},
   "outputs": [],
   "source": [
    "\n",
    "allCpds = list(set(totalTransitions[\"Name\"].values))\n",
    "numCpds = len(allCpds)"
   ]
  },
  {
   "cell_type": "code",
   "execution_count": null,
   "metadata": {},
   "outputs": [
    {
     "name": "stdout",
     "output_type": "stream",
     "text": [
      "Library loaded successfully: 0 spectra found\n",
      "reading data...\n",
      "2950  MS2 spectra detected\n",
      "Number of compounds with acquired MS2:  39\n",
      "Number of spectra to deconvolve:  2362\n"
     ]
    }
   ],
   "source": [
    "if __name__ == '__main__':\n",
    "    \n",
    "    targets = totalTransitions\n",
    "    cpds = []\n",
    "    toDrop = []\n",
    "    for index,row in targets.iterrows():\n",
    "        if (row['Name'],row[\"Charge\"]) in cpds:\n",
    "            toDrop.append(index)\n",
    "        else:\n",
    "            cpds.append((row['Name'],row[\"Charge\"]))\n",
    "\n",
    "    targets = targets.drop(toDrop)\n",
    "    goodCols = [\"Name\",\"rt_start\",\"rt_end\",\"mz\",\"Charge\"]\n",
    "    targets = targets[goodCols]\n",
    "    targets.to_csv(\"tmp_targets_for_evaluation.csv\",index=False)\n",
    "\n",
    "    # create srm_maker object\n",
    "    srm_maker = SRM_maker(ppm=ppmTol, numCores=numCores)\n",
    "\n",
    "    msFilenames = [\"../data/IDX/IDX_MS2_data/M3T_10uM_pos_DDA_10NCEs_25-35_50ms_5e4_DE5s_updatedRT.mzML\",\n",
    "                   \"../data/IDX/IDX_MS2_data/M3T_10uM_neg_DDA_10NCEs_25-35_50ms_5e4_DE5s_updatedRT.mzML\",\n",
    "                   \"../data/IDX/IDX_MS2_data/M3T_10uM_pos_DDA_10NCEs_25-35_80ms_1e4_DE5s_updatedRT_missing.mzML\"]\n",
    "\n",
    "\n",
    "    # set datafiles to build srms\n",
    "    targets = pd.read_csv(\"tmp_targets_for_evaluation.csv\")\n",
    "\n",
    "    srm_table = pd.DataFrame()\n",
    "    breakdownCurves = {}\n",
    "\n",
    "    for msFilename in msFilenames:\n",
    "\n",
    "        # create SRM table\n",
    "        srm_table1, _ = srm_maker.createSRMsCE(msFilename, targets)\n",
    "\n",
    "        srm_table = pd.concat((srm_table,srm_table1),axis=0,ignore_index=True)\n",
    "\n",
    "        "
   ]
  },
  {
   "cell_type": "code",
   "execution_count": null,
   "metadata": {},
   "outputs": [],
   "source": [
    "transition_indices = {}\n",
    "for index,row in totalTransitions.iterrows():\n",
    "    new = True\n",
    "    for x in transition_indices:\n",
    "        if x[0] == row[\"Name\"] and np.abs(row[\"Product mz\"] - x[1]) < tol and row[\"Charge\"] == x[2]:\n",
    "            new = False\n",
    "            transition_indices[x][\"QqQ Optimized CE\"] = row[\"CE\"]\n",
    "            break\n",
    "    if new:\n",
    "        transition_indices[(row[\"Name\"],row[\"Product mz\"],row[\"Charge\"])] = {\"QqQ Optimized CE\":row[\"CE\"]}\n",
    "        \n",
    "for index,row in srm_table.iterrows():\n",
    "    new = True\n",
    "    for x in transition_indices:\n",
    "        if x[0] == row[\"Name\"] and np.abs(row[\"Product mz\"] - x[1]) < tol and row[\"Charge\"] == x[2]:\n",
    "            new = False\n",
    "            transition_indices[x][\"HRMS Optimized CE (converted)\"] = (row[\"mz\"], row[\"CE\"])\n",
    "            break\n",
    "    if new:\n",
    "        transition_indices[(row[\"Name\"],row[\"Product mz\"],row[\"Charge\"])] = {\"HRMS Optimized CE (converted)\": (row[\"mz\"], row[\"CE\"])}\n",
    "evaluation_results = pd.DataFrame.from_dict(transition_indices,orient=\"index\")\n",
    "evaluation_results\n",
    "\n"
   ]
  },
  {
   "cell_type": "code",
   "execution_count": null,
   "metadata": {},
   "outputs": [],
   "source": [
    "if __name__ == \"__main__\":\n",
    "    filt = totalTransitions\n",
    "    filt.to_csv(\"tmp_to_learn_conv.csv\",index=False)\n",
    "\n",
    "\n",
    "    # create srm_maker object\n",
    "    srm_maker = SRM_maker(ppm=ppmTol, numCores=numCores)\n",
    "\n",
    "    # set datafiles for learning conversion\n",
    "    trainingData = pd.read_csv(\"tmp_to_learn_conv.csv\")\n",
    "\n",
    "    msFilenames = [\"../data/IDX/IDX_MS2_data/M3T_10uM_pos_DDA_10NCEs_25-35_50ms_5e4_DE5s_updatedRT.mzML\",\n",
    "                   \"../data/IDX/IDX_MS2_data/M3T_10uM_neg_DDA_10NCEs_25-35_50ms_5e4_DE5s_updatedRT.mzML\",\n",
    "                   \"../data/IDX/IDX_MS2_data/M3T_10uM_pos_DDA_10NCEs_25-35_80ms_1e4_DE5s_updatedRT_missing.mzML\"]\n",
    "\n",
    "    #build conversion\n",
    "    merged = srm_maker.buildConversion(msFilenames, trainingData, tic_cutoff=0, frag_cutoff=0,\n",
    "                                       frag_ppm_tolerance=2 * 1e6 * .5 / 200)\n",
    "    \n",
    "    merged.to_csv(\"../data/IDX/all_cpds_merged_to_learn_conversion.csv\")\n",
    "    \n",
    "    print(srm_maker.getConversionEquationString())"
   ]
  },
  {
   "cell_type": "code",
   "execution_count": null,
   "metadata": {},
   "outputs": [],
   "source": [
    "merged"
   ]
  },
  {
   "cell_type": "code",
   "execution_count": null,
   "metadata": {},
   "outputs": [],
   "source": [
    "if __name__ == \"__main__\":\n",
    "    #get random training compounds \n",
    "    r2s = {}\n",
    "    numEval = 20\n",
    "    numIters = 100\n",
    "    #testCpds = rd.sample(allCpds,k=numEval)\n",
    "    #trainCpds = [x for x in allCpds if x not in testCpds]\n",
    "    print(len(testCpds),len(trainCpds),len(allCpds))\n",
    "\n",
    "    for num2Train in range(2,len(trainCpds)-1):\n",
    "        \n",
    "        r2s[num2Train] = []\n",
    "        print(num2Train)\n",
    "\n",
    "        trainingCpds = []\n",
    "        for _ in range(numIters):\n",
    "            tmp = rd.sample(allCpds,k=num2Train)\n",
    "            trainingCpds.append(tmp)\n",
    "\n",
    "        for cpds in trainingCpds:\n",
    "            goodInds = []\n",
    "            for index,row in merged.iterrows():\n",
    "                if row[\"Name\"] in cpds:\n",
    "                    goodInds.append(index)\n",
    "                    \n",
    "            testCpds = rd.sample([x for x in allCpds if x not in cpds],k=numEval)\n",
    "\n",
    "            \n",
    "            tmp = merged.loc[goodInds,:]\n",
    "            X = np.array([tmp[\"mz\"].values,tmp[\"HRMS_CE\"],[1 for _ in range(len(tmp))]]).transpose()\n",
    "            y = tmp[\"CE\"].values\n",
    "\n",
    "            #find equation\n",
    "            linreg = LinearRegression(fit_intercept=False)\n",
    "            linreg.fit(X,y)\n",
    "            converter = lambda x: linreg.predict([[x[0],x[1],1]])[0]\n",
    "            \n",
    "            predCEs = []\n",
    "            trueCEs = []\n",
    "\n",
    "            for index,row in evaluation_results.iterrows():\n",
    "                if index[0] in testCpds:\n",
    "                    if not pd.isna(row[\"QqQ Optimized CE\"]) and type(row[\"HRMS Optimized CE (converted)\"]) == type(tuple()):\n",
    "                        trueCEs.append(row[\"QqQ Optimized CE\"])\n",
    "                        predCEs.append(converter(row[\"HRMS Optimized CE (converted)\"]))\n",
    "                        \n",
    "                        \n",
    "            r2 = r2_score(trueCEs,predCEs)\n",
    "            r2s[num2Train].append(r2)\n",
    "            "
   ]
  },
  {
   "cell_type": "code",
   "execution_count": null,
   "metadata": {},
   "outputs": [],
   "source": [
    "plt.hist(r2s[10])\n",
    "plt.xlabel(\"R2\")\n",
    "plt.ylabel(\"frequency\")\n",
    "plt.savefig(\"r2_hist_at_10cpds.png\")"
   ]
  },
  {
   "cell_type": "code",
   "execution_count": null,
   "metadata": {},
   "outputs": [],
   "source": [
    "print(r2s.keys())"
   ]
  },
  {
   "cell_type": "code",
   "execution_count": null,
   "metadata": {},
   "outputs": [],
   "source": [
    "keys = list(r2s.keys())\n",
    "keys.sort()\n",
    "keys = keys[4:]\n",
    "vals = [np.mean(r2s[k]) for k in keys]\n",
    "errs = [np.std(r2s[k]) for k in keys]\n",
    "plt.scatter(keys,vals,color=\"black\")\n",
    "plt.errorbar(keys,vals,yerr=errs,color=\"black\",capsize=3)\n",
    "plt.plot(keys,vals)\n",
    "#plt.ylim((0,1.2))\n",
    "plt.xlabel(\"# of compounds\")\n",
    "plt.ylabel(\"R2\")\n",
    "#r2 = r2_score(merged[\"CE\"],merged[\"HRMS_CE\"])\n",
    "#plt.plot(keys,[r2 for _ in keys],color=\"red\",label=\"no conversion\")\n",
    "plt.savefig(\"num_cpds_plot.png\")"
   ]
  },
  {
   "cell_type": "code",
   "execution_count": null,
   "metadata": {},
   "outputs": [],
   "source": []
  }
 ],
 "metadata": {
  "kernelspec": {
   "display_name": "Python 3",
   "language": "python",
   "name": "python3"
  },
  "language_info": {
   "codemirror_mode": {
    "name": "ipython",
    "version": 3
   },
   "file_extension": ".py",
   "mimetype": "text/x-python",
   "name": "python",
   "nbconvert_exporter": "python",
   "pygments_lexer": "ipython3",
   "version": "3.7.6"
  }
 },
 "nbformat": 4,
 "nbformat_minor": 4
}
